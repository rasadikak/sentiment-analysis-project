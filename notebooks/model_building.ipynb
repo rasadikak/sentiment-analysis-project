{
 "cells": [
  {
   "cell_type": "code",
   "execution_count": 1,
   "id": "c0bfd433-5f70-4e88-b673-6e5609d570b1",
   "metadata": {},
   "outputs": [],
   "source": [
    "import numpy as np\n",
    "import matplotlib.pyplot as plt\n",
    "import pandas as pd"
   ]
  },
  {
   "cell_type": "code",
   "execution_count": 5,
   "id": "7c535a1d-6364-4b6d-a51d-4dee7dc4e318",
   "metadata": {},
   "outputs": [],
   "source": [
    "data = pd.read_csv(r\"C:\\Users\\ADMIN\\Desktop\\my_projects\\sentiment-analysis-project\\artifacts\\sentiment_analysis.csv\")"
   ]
  },
  {
   "cell_type": "code",
   "execution_count": 6,
   "id": "f64f1db2-0e88-4261-ae11-3a6366868d72",
   "metadata": {},
   "outputs": [
    {
     "data": {
      "text/html": [
       "<div>\n",
       "<style scoped>\n",
       "    .dataframe tbody tr th:only-of-type {\n",
       "        vertical-align: middle;\n",
       "    }\n",
       "\n",
       "    .dataframe tbody tr th {\n",
       "        vertical-align: top;\n",
       "    }\n",
       "\n",
       "    .dataframe thead th {\n",
       "        text-align: right;\n",
       "    }\n",
       "</style>\n",
       "<table border=\"1\" class=\"dataframe\">\n",
       "  <thead>\n",
       "    <tr style=\"text-align: right;\">\n",
       "      <th></th>\n",
       "      <th>id</th>\n",
       "      <th>label</th>\n",
       "      <th>tweet</th>\n",
       "    </tr>\n",
       "  </thead>\n",
       "  <tbody>\n",
       "    <tr>\n",
       "      <th>0</th>\n",
       "      <td>1</td>\n",
       "      <td>0</td>\n",
       "      <td>#fingerprint #Pregnancy Test https://goo.gl/h1...</td>\n",
       "    </tr>\n",
       "    <tr>\n",
       "      <th>1</th>\n",
       "      <td>2</td>\n",
       "      <td>0</td>\n",
       "      <td>Finally a transparant silicon case ^^ Thanks t...</td>\n",
       "    </tr>\n",
       "    <tr>\n",
       "      <th>2</th>\n",
       "      <td>3</td>\n",
       "      <td>0</td>\n",
       "      <td>We love this! Would you go? #talk #makememorie...</td>\n",
       "    </tr>\n",
       "    <tr>\n",
       "      <th>3</th>\n",
       "      <td>4</td>\n",
       "      <td>0</td>\n",
       "      <td>I'm wired I know I'm George I was made that wa...</td>\n",
       "    </tr>\n",
       "    <tr>\n",
       "      <th>4</th>\n",
       "      <td>5</td>\n",
       "      <td>1</td>\n",
       "      <td>What amazing service! Apple won't even talk to...</td>\n",
       "    </tr>\n",
       "  </tbody>\n",
       "</table>\n",
       "</div>"
      ],
      "text/plain": [
       "   id  label                                              tweet\n",
       "0   1      0  #fingerprint #Pregnancy Test https://goo.gl/h1...\n",
       "1   2      0  Finally a transparant silicon case ^^ Thanks t...\n",
       "2   3      0  We love this! Would you go? #talk #makememorie...\n",
       "3   4      0  I'm wired I know I'm George I was made that wa...\n",
       "4   5      1  What amazing service! Apple won't even talk to..."
      ]
     },
     "execution_count": 6,
     "metadata": {},
     "output_type": "execute_result"
    }
   ],
   "source": [
    "data.head()"
   ]
  },
  {
   "cell_type": "code",
   "execution_count": 7,
   "id": "e825c395-014b-4b3d-b303-d2318ccc6e6d",
   "metadata": {},
   "outputs": [
    {
     "data": {
      "text/plain": [
       "(7920, 3)"
      ]
     },
     "execution_count": 7,
     "metadata": {},
     "output_type": "execute_result"
    }
   ],
   "source": [
    "data.shape"
   ]
  },
  {
   "cell_type": "code",
   "execution_count": 8,
   "id": "02c7bf80-fe21-4d3e-946e-af5942c726d8",
   "metadata": {},
   "outputs": [
    {
     "data": {
      "text/plain": [
       "np.int64(0)"
      ]
     },
     "execution_count": 8,
     "metadata": {},
     "output_type": "execute_result"
    }
   ],
   "source": [
    "data.duplicated().sum()"
   ]
  },
  {
   "cell_type": "code",
   "execution_count": 9,
   "id": "4955984e-ecbf-4e73-abef-effd479cb847",
   "metadata": {},
   "outputs": [
    {
     "data": {
      "text/plain": [
       "id       0\n",
       "label    0\n",
       "tweet    0\n",
       "dtype: int64"
      ]
     },
     "execution_count": 9,
     "metadata": {},
     "output_type": "execute_result"
    }
   ],
   "source": [
    "data.isnull().sum()"
   ]
  },
  {
   "cell_type": "code",
   "execution_count": 10,
   "id": "a1c6daff-f400-4019-ac06-f4950493060e",
   "metadata": {},
   "outputs": [],
   "source": [
    "import re\n",
    "#regular expression\n",
    "import string"
   ]
  },
  {
   "cell_type": "code",
   "execution_count": 11,
   "id": "a37a3936-f830-4d4f-b438-a0cea53c843e",
   "metadata": {},
   "outputs": [],
   "source": [
    "#convert upppercase to lowercase\n",
    "data['tweet']= data['tweet'].apply(lambda x:\" \".join(x.lower() for x in x.split()))"
   ]
  },
  {
   "cell_type": "code",
   "execution_count": 12,
   "id": "5448e474-0616-463b-9d0a-0a03cd387335",
   "metadata": {},
   "outputs": [
    {
     "data": {
      "text/plain": [
       "0    #fingerprint #pregnancy test https://goo.gl/h1...\n",
       "1    finally a transparant silicon case ^^ thanks t...\n",
       "2    we love this! would you go? #talk #makememorie...\n",
       "3    i'm wired i know i'm george i was made that wa...\n",
       "4    what amazing service! apple won't even talk to...\n",
       "Name: tweet, dtype: object"
      ]
     },
     "execution_count": 12,
     "metadata": {},
     "output_type": "execute_result"
    }
   ],
   "source": [
    "data['tweet'].head()"
   ]
  },
  {
   "cell_type": "code",
   "execution_count": 13,
   "id": "3805e5fb-b234-43d7-9c22-a860b8793703",
   "metadata": {},
   "outputs": [],
   "source": [
    "#remove links\n",
    "data['tweet']= data['tweet'].apply(lambda x: \" \".join(re.sub(r'^https?:\\/\\/.*[\\r\\n]*','',x,flags=re.MULTILINE) for x in x.split()))"
   ]
  },
  {
   "cell_type": "code",
   "execution_count": 14,
   "id": "97843107-7084-4555-8822-437f19616d1d",
   "metadata": {},
   "outputs": [
    {
     "data": {
      "text/plain": [
       "0    #fingerprint #pregnancy test  #android #apps #...\n",
       "1    finally a transparant silicon case ^^ thanks t...\n",
       "2    we love this! would you go? #talk #makememorie...\n",
       "3    i'm wired i know i'm george i was made that wa...\n",
       "4    what amazing service! apple won't even talk to...\n",
       "Name: tweet, dtype: object"
      ]
     },
     "execution_count": 14,
     "metadata": {},
     "output_type": "execute_result"
    }
   ],
   "source": [
    "data['tweet'].head()\n"
   ]
  },
  {
   "cell_type": "code",
   "execution_count": 15,
   "id": "bcccfc1b-db91-41e5-8cab-c4d2cedb311b",
   "metadata": {},
   "outputs": [
    {
     "data": {
      "text/plain": [
       "'!\"#$%&\\'()*+,-./:;<=>?@[\\\\]^_`{|}~'"
      ]
     },
     "execution_count": 15,
     "metadata": {},
     "output_type": "execute_result"
    }
   ],
   "source": [
    "string.punctuation"
   ]
  },
  {
   "cell_type": "code",
   "execution_count": 16,
   "id": "1208d913-319f-49a4-9147-b32a08aeb26a",
   "metadata": {},
   "outputs": [],
   "source": [
    "#remove punctuations\n",
    "def remove_punctutions(text):\n",
    "    for punctuation in string.punctuation:\n",
    "        text= text.replace(punctuation,'')\n",
    "    return text\n",
    "    \n",
    "data['tweet'] = data['tweet'].apply(remove_punctutions)\n"
   ]
  },
  {
   "cell_type": "code",
   "execution_count": 17,
   "id": "bbfd0c38-8da4-4a19-8ff7-d52afd19fe69",
   "metadata": {},
   "outputs": [
    {
     "data": {
      "text/plain": [
       "0    fingerprint pregnancy test  android apps beaut...\n",
       "1    finally a transparant silicon case  thanks to ...\n",
       "2    we love this would you go talk makememories un...\n",
       "3    im wired i know im george i was made that way ...\n",
       "4    what amazing service apple wont even talk to m...\n",
       "Name: tweet, dtype: object"
      ]
     },
     "execution_count": 17,
     "metadata": {},
     "output_type": "execute_result"
    }
   ],
   "source": [
    "data['tweet'].head()"
   ]
  },
  {
   "cell_type": "code",
   "execution_count": 18,
   "id": "e4fc184c-11d3-4bd8-b8d3-e2ea70f21e55",
   "metadata": {},
   "outputs": [],
   "source": [
    "#remove numbers\n",
    "data['tweet'] = data['tweet'].str.replace('\\d+', '', regex=True)"
   ]
  },
  {
   "cell_type": "code",
   "execution_count": 19,
   "id": "658050ef-4985-4a36-a49a-479dd830d878",
   "metadata": {},
   "outputs": [
    {
     "data": {
      "text/html": [
       "<div>\n",
       "<style scoped>\n",
       "    .dataframe tbody tr th:only-of-type {\n",
       "        vertical-align: middle;\n",
       "    }\n",
       "\n",
       "    .dataframe tbody tr th {\n",
       "        vertical-align: top;\n",
       "    }\n",
       "\n",
       "    .dataframe thead th {\n",
       "        text-align: right;\n",
       "    }\n",
       "</style>\n",
       "<table border=\"1\" class=\"dataframe\">\n",
       "  <thead>\n",
       "    <tr style=\"text-align: right;\">\n",
       "      <th></th>\n",
       "      <th>id</th>\n",
       "      <th>label</th>\n",
       "      <th>tweet</th>\n",
       "    </tr>\n",
       "  </thead>\n",
       "  <tbody>\n",
       "    <tr>\n",
       "      <th>7915</th>\n",
       "      <td>7916</td>\n",
       "      <td>0</td>\n",
       "      <td>live out loud lol liveoutloud selfie smile son...</td>\n",
       "    </tr>\n",
       "    <tr>\n",
       "      <th>7916</th>\n",
       "      <td>7917</td>\n",
       "      <td>0</td>\n",
       "      <td>we would like to wish you an amazing day make ...</td>\n",
       "    </tr>\n",
       "    <tr>\n",
       "      <th>7917</th>\n",
       "      <td>7918</td>\n",
       "      <td>0</td>\n",
       "      <td>helping my lovely  year old neighbor with her ...</td>\n",
       "    </tr>\n",
       "    <tr>\n",
       "      <th>7918</th>\n",
       "      <td>7919</td>\n",
       "      <td>0</td>\n",
       "      <td>finally got my smart pocket wifi stay connecte...</td>\n",
       "    </tr>\n",
       "    <tr>\n",
       "      <th>7919</th>\n",
       "      <td>7920</td>\n",
       "      <td>0</td>\n",
       "      <td>apple barcelona apple store bcn barcelona trav...</td>\n",
       "    </tr>\n",
       "  </tbody>\n",
       "</table>\n",
       "</div>"
      ],
      "text/plain": [
       "        id  label                                              tweet\n",
       "7915  7916      0  live out loud lol liveoutloud selfie smile son...\n",
       "7916  7917      0  we would like to wish you an amazing day make ...\n",
       "7917  7918      0  helping my lovely  year old neighbor with her ...\n",
       "7918  7919      0  finally got my smart pocket wifi stay connecte...\n",
       "7919  7920      0  apple barcelona apple store bcn barcelona trav..."
      ]
     },
     "execution_count": 19,
     "metadata": {},
     "output_type": "execute_result"
    }
   ],
   "source": [
    "data.tail()"
   ]
  },
  {
   "cell_type": "code",
   "execution_count": 22,
   "id": "587c84a5-589d-4dd0-8ce7-8eb45089163b",
   "metadata": {},
   "outputs": [
    {
     "name": "stdout",
     "output_type": "stream",
     "text": [
      "Requirement already satisfied: nltk in c:\\users\\admin\\tf_env\\lib\\site-packages (3.9.1)"
     ]
    },
    {
     "name": "stderr",
     "output_type": "stream",
     "text": [
      "\n",
      "[notice] A new release of pip available: 22.3.1 -> 25.1.1\n",
      "[notice] To update, run: python.exe -m pip install --upgrade pip\n"
     ]
    },
    {
     "name": "stdout",
     "output_type": "stream",
     "text": [
      "\n",
      "Requirement already satisfied: regex>=2021.8.3 in c:\\users\\admin\\tf_env\\lib\\site-packages (from nltk) (2024.11.6)\n",
      "Requirement already satisfied: joblib in c:\\users\\admin\\tf_env\\lib\\site-packages (from nltk) (1.4.2)\n",
      "Requirement already satisfied: tqdm in c:\\users\\admin\\tf_env\\lib\\site-packages (from nltk) (4.67.1)\n",
      "Requirement already satisfied: click in c:\\users\\admin\\tf_env\\lib\\site-packages (from nltk) (8.2.0)\n",
      "Requirement already satisfied: colorama in c:\\users\\admin\\tf_env\\lib\\site-packages (from click->nltk) (0.4.6)\n"
     ]
    }
   ],
   "source": [
    "#reove stopwords\n",
    "!pip install nltk"
   ]
  },
  {
   "cell_type": "code",
   "execution_count": 23,
   "id": "f6967ec2-4a5d-4143-815b-b8cc5aa10504",
   "metadata": {},
   "outputs": [
    {
     "name": "stderr",
     "output_type": "stream",
     "text": [
      "[nltk_data] Downloading package stopwords to\n",
      "[nltk_data]     C:\\Users\\ADMIN\\Desktop\\my_projects\\sentiment-analysis-\n",
      "[nltk_data]     project\\static\\model...\n",
      "[nltk_data]   Package stopwords is already up-to-date!\n"
     ]
    },
    {
     "data": {
      "text/plain": [
       "True"
      ]
     },
     "execution_count": 23,
     "metadata": {},
     "output_type": "execute_result"
    }
   ],
   "source": [
    "import os\n",
    "import nltk\n",
    "\n",
    "# Define the path\n",
    "download_path = r\"C:\\Users\\ADMIN\\Desktop\\my_projects\\sentiment-analysis-project\\static\\model\"\n",
    "\n",
    "# Create directory if it doesn't exist\n",
    "os.makedirs(download_path, exist_ok=True)\n",
    "\n",
    "# Download stopwords\n",
    "nltk.download('stopwords', download_dir=download_path)\n"
   ]
  },
  {
   "cell_type": "code",
   "execution_count": 24,
   "id": "9dbbd9d8-dcd8-4d63-a2eb-1a38d74dedd7",
   "metadata": {},
   "outputs": [],
   "source": [
    "with open(r\"C:\\Users\\ADMIN\\Desktop\\my_projects\\sentiment-analysis-project\\static\\model\\corpora\\stopwords\\english\",'r')as f:\n",
    "    sw= f.read().splitlines()"
   ]
  },
  {
   "cell_type": "code",
   "execution_count": 25,
   "id": "345ad703-3049-4756-942c-5167e403f2ee",
   "metadata": {},
   "outputs": [],
   "source": [
    "data['tweet'] = data['tweet'].apply(lambda x:\" \".join(x for x in x.split() if x not in sw))"
   ]
  },
  {
   "cell_type": "code",
   "execution_count": 26,
   "id": "5fef809a-7e24-4905-96f9-55577b3bcb55",
   "metadata": {},
   "outputs": [
    {
     "data": {
      "text/plain": [
       "0    fingerprint pregnancy test android apps beauti...\n",
       "1    finally transparant silicon case thanks uncle ...\n",
       "2    love would go talk makememories unplug relax i...\n",
       "3    im wired know im george made way iphone cute d...\n",
       "4    amazing service apple wont even talk question ...\n",
       "Name: tweet, dtype: object"
      ]
     },
     "execution_count": 26,
     "metadata": {},
     "output_type": "execute_result"
    }
   ],
   "source": [
    "data['tweet'].head()"
   ]
  },
  {
   "cell_type": "code",
   "execution_count": 27,
   "id": "45989520-7946-4825-a139-b43f4bb37bca",
   "metadata": {},
   "outputs": [],
   "source": [
    "#stemming\n",
    "from nltk.stem import PorterStemmer\n",
    "ps= PorterStemmer()"
   ]
  },
  {
   "cell_type": "code",
   "execution_count": 28,
   "id": "02150e67-f823-4af6-8512-99528f3bb856",
   "metadata": {},
   "outputs": [],
   "source": [
    "data['tweet'] = data['tweet'].apply(lambda x:\" \".join(ps.stem(x) for x in x.split()))"
   ]
  },
  {
   "cell_type": "code",
   "execution_count": 29,
   "id": "ffc0db55-5965-4117-81c5-02aca11175b1",
   "metadata": {},
   "outputs": [
    {
     "data": {
      "text/plain": [
       "0    fingerprint pregnanc test android app beauti c...\n",
       "1    final transpar silicon case thank uncl yay son...\n",
       "2    love would go talk makememori unplug relax iph...\n",
       "3    im wire know im georg made way iphon cute dave...\n",
       "4    amaz servic appl wont even talk question unles...\n",
       "Name: tweet, dtype: object"
      ]
     },
     "execution_count": 29,
     "metadata": {},
     "output_type": "execute_result"
    }
   ],
   "source": [
    "data['tweet'].head()"
   ]
  },
  {
   "cell_type": "code",
   "execution_count": 30,
   "id": "bd17aabb-805c-45d8-833d-e58753182ba4",
   "metadata": {},
   "outputs": [],
   "source": [
    "from collections import Counter\n",
    "vocab=Counter()"
   ]
  },
  {
   "cell_type": "code",
   "execution_count": 31,
   "id": "bf40314c-c405-4353-8640-7a9186a8df45",
   "metadata": {},
   "outputs": [
    {
     "data": {
      "text/plain": [
       "Counter()"
      ]
     },
     "execution_count": 31,
     "metadata": {},
     "output_type": "execute_result"
    }
   ],
   "source": [
    "vocab"
   ]
  },
  {
   "cell_type": "code",
   "execution_count": 32,
   "id": "198f8ebb-d1ef-40f0-9feb-1e8d68fe1cab",
   "metadata": {},
   "outputs": [],
   "source": [
    "for sentence in data['tweet']:\n",
    "    vocab.update(sentence.split())"
   ]
  },
  {
   "cell_type": "code",
   "execution_count": 33,
   "id": "a0e2e772-0ca6-4f5d-9a7d-836a6c24f63f",
   "metadata": {},
   "outputs": [
    {
     "data": {
      "text/plain": [
       "Counter({'iphon': 4073,\n",
       "         'appl': 2876,\n",
       "         'samsung': 1395,\n",
       "         'new': 1137,\n",
       "         'phone': 1015,\n",
       "         'follow': 885,\n",
       "         'soni': 819,\n",
       "         '…': 751,\n",
       "         'ipad': 537,\n",
       "         'rt': 525,\n",
       "         'love': 499,\n",
       "         'like': 455,\n",
       "         'day': 426,\n",
       "         'app': 416,\n",
       "         'life': 415,\n",
       "         'android': 414,\n",
       "         'photo': 394,\n",
       "         'get': 382,\n",
       "         'io': 382,\n",
       "         'galaxi': 361,\n",
       "         'instagram': 358,\n",
       "         'case': 348,\n",
       "         'beauti': 322,\n",
       "         'cute': 322,\n",
       "         'gain': 311,\n",
       "         'today': 309,\n",
       "         'work': 306,\n",
       "         'im': 294,\n",
       "         'back': 294,\n",
       "         'fuck': 293,\n",
       "         'happi': 293,\n",
       "         'photographi': 292,\n",
       "         'game': 282,\n",
       "         'got': 280,\n",
       "         'fun': 277,\n",
       "         'news': 265,\n",
       "         'thank': 263,\n",
       "         'music': 263,\n",
       "         'time': 248,\n",
       "         'make': 247,\n",
       "         'updat': 236,\n",
       "         'smile': 231,\n",
       "         'instagood': 226,\n",
       "         'funni': 223,\n",
       "         'one': 221,\n",
       "         'girl': 220,\n",
       "         'lol': 215,\n",
       "         'fashion': 215,\n",
       "         'itun': 212,\n",
       "         'ipod': 211,\n",
       "         'go': 209,\n",
       "         'birthday': 206,\n",
       "         'tech': 205,\n",
       "         'iphonex': 199,\n",
       "         'ps': 198,\n",
       "         'final': 192,\n",
       "         'photooftheday': 191,\n",
       "         'friend': 191,\n",
       "         'everyon': 189,\n",
       "         'cant': 180,\n",
       "         'good': 180,\n",
       "         'amaz': 178,\n",
       "         'use': 174,\n",
       "         'look': 171,\n",
       "         'fail': 169,\n",
       "         'dont': 168,\n",
       "         'must': 168,\n",
       "         'note': 166,\n",
       "         'want': 165,\n",
       "         'sougofollow': 165,\n",
       "         'selfi': 164,\n",
       "         'mac': 164,\n",
       "         'gift': 163,\n",
       "         'sale': 156,\n",
       "         'hate': 155,\n",
       "         'free': 149,\n",
       "         'babi': 148,\n",
       "         'would': 146,\n",
       "         'iger': 143,\n",
       "         'home': 143,\n",
       "         'year': 141,\n",
       "         'camera': 139,\n",
       "         'famili': 139,\n",
       "         'need': 138,\n",
       "         'iphonesia': 137,\n",
       "         'best': 136,\n",
       "         'smartphon': 134,\n",
       "         'cool': 134,\n",
       "         'art': 132,\n",
       "         'iphoneonli': 129,\n",
       "         'charger': 128,\n",
       "         'everi': 127,\n",
       "         'color': 125,\n",
       "         'suck': 125,\n",
       "         'live': 124,\n",
       "         'christma': 124,\n",
       "         'buy': 124,\n",
       "         'tri': 122,\n",
       "         'health': 120,\n",
       "         'summer': 119,\n",
       "         'picoftheday': 117,\n",
       "         'product': 117,\n",
       "         'thing': 116,\n",
       "         'shop': 115,\n",
       "         'white': 115,\n",
       "         'hour': 113,\n",
       "         'u': 113,\n",
       "         'still': 112,\n",
       "         'mobil': 111,\n",
       "         'minut': 111,\n",
       "         'much': 109,\n",
       "         'say': 109,\n",
       "         'even': 108,\n",
       "         'natur': 107,\n",
       "         'night': 107,\n",
       "         'awesom': 107,\n",
       "         'know': 106,\n",
       "         'come': 105,\n",
       "         'macbook': 105,\n",
       "         'window': 104,\n",
       "         'money': 103,\n",
       "         'screen': 102,\n",
       "         'ff': 102,\n",
       "         'laptop': 102,\n",
       "         'download': 101,\n",
       "         'ever': 101,\n",
       "         'great': 98,\n",
       "         'excit': 98,\n",
       "         'wish': 97,\n",
       "         'sexi': 94,\n",
       "         'wait': 94,\n",
       "         'take': 94,\n",
       "         'motorola': 94,\n",
       "         'delet': 93,\n",
       "         'style': 93,\n",
       "         'accessori': 93,\n",
       "         'store': 91,\n",
       "         'black': 90,\n",
       "         'instamood': 90,\n",
       "         'retweet': 90,\n",
       "         'comput': 89,\n",
       "         'last': 89,\n",
       "         'followm': 89,\n",
       "         'technolog': 88,\n",
       "         'wont': 87,\n",
       "         'nice': 87,\n",
       "         'pink': 86,\n",
       "         'iphone…': 86,\n",
       "         'twitter': 86,\n",
       "         'keep': 85,\n",
       "         'sweet': 85,\n",
       "         'peopl': 85,\n",
       "         'realli': 83,\n",
       "         'ive': 83,\n",
       "         'guy': 83,\n",
       "         'pictur': 82,\n",
       "         'morn': 82,\n",
       "         'charg': 81,\n",
       "         'watch': 81,\n",
       "         'video': 81,\n",
       "         'travel': 81,\n",
       "         'never': 81,\n",
       "         'first': 81,\n",
       "         'us': 80,\n",
       "         'batteri': 80,\n",
       "         'think': 80,\n",
       "         'right': 80,\n",
       "         'old': 80,\n",
       "         'fix': 80,\n",
       "         'via': 79,\n",
       "         'boy': 77,\n",
       "         'play': 77,\n",
       "         'custom': 77,\n",
       "         'give': 76,\n",
       "         'googl': 76,\n",
       "         'playstat': 76,\n",
       "         'job': 75,\n",
       "         'fuckyou': 75,\n",
       "         'everyth': 75,\n",
       "         'kid': 74,\n",
       "         'hey': 73,\n",
       "         'let': 73,\n",
       "         'tv': 73,\n",
       "         'toy': 73,\n",
       "         'made': 72,\n",
       "         'pretti': 72,\n",
       "         'well': 72,\n",
       "         'upgrad': 72,\n",
       "         'anoth': 71,\n",
       "         'dog': 71,\n",
       "         'feel': 71,\n",
       "         'cover': 71,\n",
       "         'pic': 70,\n",
       "         'see': 70,\n",
       "         'blue': 70,\n",
       "         'yay': 69,\n",
       "         'week': 69,\n",
       "         'red': 69,\n",
       "         'doesnt': 69,\n",
       "         'count': 69,\n",
       "         'stupid': 68,\n",
       "         'start': 68,\n",
       "         'text': 68,\n",
       "         'present': 68,\n",
       "         'world': 68,\n",
       "         'offer': 68,\n",
       "         'gadget': 68,\n",
       "         'x': 68,\n",
       "         'sun': 67,\n",
       "         'instadaili': 66,\n",
       "         'check': 66,\n",
       "         'quot': 65,\n",
       "         'nokia': 65,\n",
       "         'headphon': 65,\n",
       "         'big': 64,\n",
       "         'design': 64,\n",
       "         'food': 64,\n",
       "         'deal': 64,\n",
       "         'alway': 63,\n",
       "         'appstor': 63,\n",
       "         'friday': 63,\n",
       "         'date': 63,\n",
       "         'youtub': 62,\n",
       "         'book': 62,\n",
       "         'tl': 62,\n",
       "         'rhyme': 62,\n",
       "         'amazon': 61,\n",
       "         'sunset': 61,\n",
       "         'tablet': 61,\n",
       "         'cat': 61,\n",
       "         'pc': 61,\n",
       "         'xperia': 60,\n",
       "         'song': 60,\n",
       "         'laugh': 59,\n",
       "         'blackberri': 58,\n",
       "         'capetown': 58,\n",
       "         'ig': 58,\n",
       "         'hello': 58,\n",
       "         'bought': 57,\n",
       "         'sunday': 57,\n",
       "         'imag': 57,\n",
       "         'sky': 56,\n",
       "         'holiday': 56,\n",
       "         'lost': 56,\n",
       "         'sinc': 56,\n",
       "         'wow': 56,\n",
       "         'top': 56,\n",
       "         'better': 56,\n",
       "         'instap': 55,\n",
       "         'flower': 55,\n",
       "         'month': 55,\n",
       "         'hot': 55,\n",
       "         'surf': 55,\n",
       "         'followback': 54,\n",
       "         'oh': 54,\n",
       "         'gamer': 54,\n",
       "         'gb': 54,\n",
       "         'facebook': 54,\n",
       "         'way': 53,\n",
       "         'share': 53,\n",
       "         'green': 53,\n",
       "         'put': 53,\n",
       "         'capetownsup': 53,\n",
       "         'sup': 53,\n",
       "         'mine': 53,\n",
       "         'phonecas': 53,\n",
       "         'iphoneographi': 52,\n",
       "         'gold': 52,\n",
       "         'g': 52,\n",
       "         'valentin': 52,\n",
       "         'miss': 52,\n",
       "         'ye': 52,\n",
       "         'heart': 52,\n",
       "         'weekend': 52,\n",
       "         'servic': 51,\n",
       "         'newyear': 51,\n",
       "         'face': 51,\n",
       "         'th': 51,\n",
       "         'help': 51,\n",
       "         'wifi': 50,\n",
       "         'tweegram': 50,\n",
       "         'twitch': 50,\n",
       "         'moment': 50,\n",
       "         'call': 50,\n",
       "         'beach': 50,\n",
       "         'macbookpro': 50,\n",
       "         'find': 50,\n",
       "         'god': 50,\n",
       "         'hard': 49,\n",
       "         'hateappl': 49,\n",
       "         'iphoneplu': 49,\n",
       "         'chang': 49,\n",
       "         'dear': 48,\n",
       "         'parti': 48,\n",
       "         'pleas': 48,\n",
       "         'pay': 47,\n",
       "         'support': 47,\n",
       "         'arriv': 47,\n",
       "         'enjoy': 47,\n",
       "         'didnt': 47,\n",
       "         'yeah': 47,\n",
       "         'user': 46,\n",
       "         'ya': 46,\n",
       "         'littl': 46,\n",
       "         'stop': 46,\n",
       "         'pro': 46,\n",
       "         'show': 46,\n",
       "         'restor': 46,\n",
       "         'listen': 45,\n",
       "         'that': 45,\n",
       "         'problem': 45,\n",
       "         'siri': 45,\n",
       "         'power': 45,\n",
       "         'run': 44,\n",
       "         'came': 44,\n",
       "         'word': 44,\n",
       "         'swag': 44,\n",
       "         'welcom': 44,\n",
       "         'two': 44,\n",
       "         'could': 44,\n",
       "         'man': 44,\n",
       "         'newphon': 44,\n",
       "         'messag': 44,\n",
       "         'light': 43,\n",
       "         'win': 43,\n",
       "         'blog': 43,\n",
       "         'turn': 43,\n",
       "         'tweet': 43,\n",
       "         'likelik': 43,\n",
       "         'may': 43,\n",
       "         'fit': 43,\n",
       "         'plu': 43,\n",
       "         'lock': 43,\n",
       "         'order': 43,\n",
       "         'microsoft': 43,\n",
       "         'busi': 42,\n",
       "         'id': 42,\n",
       "         'devic': 42,\n",
       "         'usa': 42,\n",
       "         'car': 42,\n",
       "         'took': 42,\n",
       "         'avail': 42,\n",
       "         'sonyphoto': 42,\n",
       "         'switch': 42,\n",
       "         'gonna': 42,\n",
       "         'hair': 42,\n",
       "         'att': 42,\n",
       "         'relax': 41,\n",
       "         'crazi': 41,\n",
       "         'reason': 41,\n",
       "         'random': 41,\n",
       "         'alreadi': 41,\n",
       "         'nofilt': 41,\n",
       "         'oneplu': 41,\n",
       "         'insta': 41,\n",
       "         'vsco': 41,\n",
       "         'discount': 41,\n",
       "         '•': 41,\n",
       "         'cabl': 40,\n",
       "         'saturday': 40,\n",
       "         'joy': 40,\n",
       "         'model': 40,\n",
       "         'piss': 40,\n",
       "         'hope': 40,\n",
       "         'serious': 39,\n",
       "         'replac': 39,\n",
       "         'tab': 39,\n",
       "         'w': 39,\n",
       "         'readi': 39,\n",
       "         'bestpric': 39,\n",
       "         'bless': 39,\n",
       "         'tell': 39,\n",
       "         'coupl': 39,\n",
       "         'die': 39,\n",
       "         'done': 38,\n",
       "         'movi': 38,\n",
       "         'broken': 38,\n",
       "         'compani': 38,\n",
       "         'annoy': 38,\n",
       "         'photograph': 38,\n",
       "         'p': 38,\n",
       "         'haha': 38,\n",
       "         'tbt': 38,\n",
       "         'crash': 37,\n",
       "         'coffe': 37,\n",
       "         'imessag': 37,\n",
       "         'contact': 37,\n",
       "         'shit': 37,\n",
       "         'trip': 37,\n",
       "         'piec': 37,\n",
       "         'monday': 36,\n",
       "         'bad': 36,\n",
       "         'yet': 36,\n",
       "         'mom': 36,\n",
       "         'sync': 36,\n",
       "         'enough': 36,\n",
       "         'gay': 36,\n",
       "         'iphonecas': 36,\n",
       "         'break': 36,\n",
       "         'hous': 36,\n",
       "         'noth': 35,\n",
       "         'tree': 35,\n",
       "         'peac': 35,\n",
       "         'stuff': 35,\n",
       "         '—': 35,\n",
       "         'ago': 35,\n",
       "         'drop': 34,\n",
       "         'complet': 34,\n",
       "         'taken': 34,\n",
       "         'earli': 34,\n",
       "         'mani': 34,\n",
       "         'fan': 34,\n",
       "         'actual': 34,\n",
       "         'sleep': 34,\n",
       "         'long': 34,\n",
       "         'soon': 34,\n",
       "         'password': 34,\n",
       "         'next': 34,\n",
       "         'verizon': 34,\n",
       "         'anyon': 34,\n",
       "         'number': 34,\n",
       "         'fresh': 34,\n",
       "         'code': 34,\n",
       "         'decid': 34,\n",
       "         'samsunggalaxi': 33,\n",
       "         'sister': 33,\n",
       "         'spring': 33,\n",
       "         'send': 33,\n",
       "         'real': 33,\n",
       "         'unlock': 33,\n",
       "         'emoji': 33,\n",
       "         'care': 33,\n",
       "         'favorit': 33,\n",
       "         'happen': 33,\n",
       "         'mini': 33,\n",
       "         'someon': 32,\n",
       "         'instago': 32,\n",
       "         'chill': 32,\n",
       "         'teamfollowback': 32,\n",
       "         'someth': 32,\n",
       "         'featur': 32,\n",
       "         'galaxynot': 32,\n",
       "         'colleg': 32,\n",
       "         'sad': 32,\n",
       "         'k': 32,\n",
       "         'worst': 32,\n",
       "         'market': 31,\n",
       "         'set': 31,\n",
       "         'end': 31,\n",
       "         'singl': 31,\n",
       "         'portrait': 31,\n",
       "         'husband': 31,\n",
       "         'fast': 31,\n",
       "         'geek': 31,\n",
       "         'steemit': 31,\n",
       "         'london': 31,\n",
       "         'sony…': 31,\n",
       "         'anyth': 31,\n",
       "         'water': 30,\n",
       "         'email': 30,\n",
       "         'cloud': 30,\n",
       "         'followsunday': 30,\n",
       "         'perfect': 30,\n",
       "         'nyc': 30,\n",
       "         'learn': 30,\n",
       "         'healthi': 30,\n",
       "         'gratitud': 30,\n",
       "         'decor': 30,\n",
       "         'steve': 30,\n",
       "         'ill': 30,\n",
       "         'releas': 30,\n",
       "         'brand': 30,\n",
       "         'softwar': 29,\n",
       "         'button': 29,\n",
       "         'broke': 29,\n",
       "         'xbox': 29,\n",
       "         'school': 29,\n",
       "         'wonder': 29,\n",
       "         'fruit': 29,\n",
       "         'kindl': 29,\n",
       "         'air': 29,\n",
       "         'sonylen': 29,\n",
       "         'sonyphotographi': 29,\n",
       "         'sound': 29,\n",
       "         'kiss': 29,\n",
       "         'anim': 29,\n",
       "         'c': 28,\n",
       "         'wed': 28,\n",
       "         'z': 28,\n",
       "         'drink': 28,\n",
       "         'tomorrow': 28,\n",
       "         'dad': 28,\n",
       "         'beat': 28,\n",
       "         'puppi': 28,\n",
       "         'gone': 28,\n",
       "         'thailand': 28,\n",
       "         'sure': 28,\n",
       "         'talk': 27,\n",
       "         'connect': 27,\n",
       "         'bestfriend': 27,\n",
       "         'pop': 27,\n",
       "         'card': 27,\n",
       "         'ad': 27,\n",
       "         'version': 27,\n",
       "         'popular': 27,\n",
       "         'os': 27,\n",
       "         'stori': 27,\n",
       "         'dream': 27,\n",
       "         'cellphon': 27,\n",
       "         'florida': 27,\n",
       "         'lg': 27,\n",
       "         'without': 27,\n",
       "         'crap': 27,\n",
       "         'андроид': 27,\n",
       "         'map': 27,\n",
       "         'inspir': 27,\n",
       "         'cake': 27,\n",
       "         'instalov': 27,\n",
       "         'also': 27,\n",
       "         'said': 27,\n",
       "         'flash': 27,\n",
       "         'crack': 27,\n",
       "         'ok': 27,\n",
       "         'relationship': 27,\n",
       "         'pet': 26,\n",
       "         'brother': 26,\n",
       "         'daughter': 26,\n",
       "         'b': 26,\n",
       "         'read': 26,\n",
       "         'smart': 26,\n",
       "         'imac': 26,\n",
       "         'itali': 26,\n",
       "         'away': 26,\n",
       "         'ebay': 26,\n",
       "         'igdaili': 26,\n",
       "         'ugh': 26,\n",
       "         'instalik': 26,\n",
       "         'ask': 26,\n",
       "         'ilc': 26,\n",
       "         'pm': 26,\n",
       "         'uk': 25,\n",
       "         'eye': 25,\n",
       "         'film': 25,\n",
       "         'less': 25,\n",
       "         'memori': 25,\n",
       "         'gear': 25,\n",
       "         'whole': 25,\n",
       "         'garden': 25,\n",
       "         'super': 25,\n",
       "         'luxuri': 25,\n",
       "         'vocat': 25,\n",
       "         'khaoko': 25,\n",
       "         'htc': 25,\n",
       "         'psn': 25,\n",
       "         'post': 25,\n",
       "         'isnt': 25,\n",
       "         'purchas': 24,\n",
       "         'pie': 24,\n",
       "         'wallpap': 24,\n",
       "         'instahub': 24,\n",
       "         'differ': 24,\n",
       "         'newyork': 24,\n",
       "         'shoot': 24,\n",
       "         '–': 24,\n",
       "         'lifestyl': 24,\n",
       "         'hand': 24,\n",
       "         'instagood…': 24,\n",
       "         'jj': 24,\n",
       "         'there': 24,\n",
       "         'citi': 24,\n",
       "         'instal': 24,\n",
       "         'unitedst': 24,\n",
       "         'guitarplay': 24,\n",
       "         'mother': 24,\n",
       "         'india': 24,\n",
       "         'japan': 24,\n",
       "         'yesterday': 24,\n",
       "         'rain': 24,\n",
       "         'applewatch': 24,\n",
       "         'save': 24,\n",
       "         'idea': 24,\n",
       "         'leav': 24,\n",
       "         'mirror': 24,\n",
       "         'line': 24,\n",
       "         'entrepreneur': 24,\n",
       "         'xperiaz': 23,\n",
       "         'inch': 23,\n",
       "         'kill': 23,\n",
       "         'blackandwhit': 23,\n",
       "         'instacool': 23,\n",
       "         '£': 23,\n",
       "         'sport': 23,\n",
       "         'rock': 23,\n",
       "         'price': 23,\n",
       "         'full': 23,\n",
       "         'bestoftheday': 23,\n",
       "         'shotoniphon': 23,\n",
       "         'though': 23,\n",
       "         'makeup': 23,\n",
       "         'addict': 23,\n",
       "         'samsung…': 23,\n",
       "         'edit': 23,\n",
       "         'total': 23,\n",
       "         'photofe': 23,\n",
       "         'reallyr': 23,\n",
       "         'ador': 23,\n",
       "         'woman': 23,\n",
       "         'charm': 23,\n",
       "         'tshirt': 23,\n",
       "         'wtf': 23,\n",
       "         'snapspeed…': 23,\n",
       "         'lot': 23,\n",
       "         'click': 23,\n",
       "         'e': 23,\n",
       "         'fact': 22,\n",
       "         'goe': 22,\n",
       "         'receiv': 22,\n",
       "         'person': 22,\n",
       "         'keyboard': 22,\n",
       "         'usb': 22,\n",
       "         'icloud': 22,\n",
       "         'small': 22,\n",
       "         'orang': 22,\n",
       "         'true': 22,\n",
       "         'jun': 22,\n",
       "         'caus': 22,\n",
       "         'nike': 22,\n",
       "         'r': 22,\n",
       "         'went': 22,\n",
       "         'proud': 22,\n",
       "         'exquisit': 22,\n",
       "         'squishi': 22,\n",
       "         'strap': 22,\n",
       "         'human': 22,\n",
       "         'ly': 22,\n",
       "         'tonight': 22,\n",
       "         'danc': 22,\n",
       "         'facetim': 22,\n",
       "         'lose': 21,\n",
       "         'ootd': 21,\n",
       "         'bit': 21,\n",
       "         'thought': 21,\n",
       "         'repair': 21,\n",
       "         'liter': 21,\n",
       "         'tattoo': 21,\n",
       "         'chocol': 21,\n",
       "         'might': 21,\n",
       "         'bring': 21,\n",
       "         'boyfriend': 21,\n",
       "         'almost': 21,\n",
       "         'repost': 21,\n",
       "         'dj': 21,\n",
       "         'tuesday': 21,\n",
       "         'forev': 21,\n",
       "         'togeth': 21,\n",
       "         'street': 21,\n",
       "         'likeforlik': 20,\n",
       "         'dead': 20,\n",
       "         'truth': 20,\n",
       "         'ur': 20,\n",
       "         'hashtag': 20,\n",
       "         'ipadmini': 20,\n",
       "         'magic': 20,\n",
       "         'tmobil': 20,\n",
       "         'ship': 20,\n",
       "         'open': 20,\n",
       "         'prophet': 20,\n",
       "         'sick': 20,\n",
       "         'account': 20,\n",
       "         'drive': 20,\n",
       "         'len': 20,\n",
       "         'feed': 20,\n",
       "         'your': 20,\n",
       "         'els': 20,\n",
       "         'load': 20,\n",
       "         'link': 20,\n",
       "         'videogam': 20,\n",
       "         'data': 20,\n",
       "         'redbubbl': 20,\n",
       "         'what': 20,\n",
       "         'slow': 20,\n",
       "         'eat': 20,\n",
       "         'thankyou': 20,\n",
       "         'latest': 20,\n",
       "         'consol': 20,\n",
       "         'believ': 20,\n",
       "         'xma': 20,\n",
       "         'bore': 20,\n",
       "         'daddi': 20,\n",
       "         'type': 19,\n",
       "         'mess': 19,\n",
       "         'havent': 19,\n",
       "         'touch': 19,\n",
       "         'freak': 19,\n",
       "         'creativ': 19,\n",
       "         'it’': 19,\n",
       "         'wrong': 19,\n",
       "         'poem': 19,\n",
       "         'n': 19,\n",
       "         'min': 19,\n",
       "         'second': 19,\n",
       "         'fall': 19,\n",
       "         'past': 19,\n",
       "         'half': 19,\n",
       "         'simpl': 19,\n",
       "         'mm': 19,\n",
       "         'visit': 19,\n",
       "         'goodnight': 19,\n",
       "         'pick': 19,\n",
       "         'april': 19,\n",
       "         'futur': 19,\n",
       "         'shitti': 19,\n",
       "         'tag': 19,\n",
       "         'mean': 19,\n",
       "         'room': 19,\n",
       "         'men': 19,\n",
       "         'skin': 19,\n",
       "         'artist': 19,\n",
       "         'winter': 19,\n",
       "         'foodporn': 19,\n",
       "         'guess': 19,\n",
       "         'canon': 19,\n",
       "         'yummi': 19,\n",
       "         'photobooth': 19,\n",
       "         'patent': 18,\n",
       "         'cut': 18,\n",
       "         'indonesia': 18,\n",
       "         'sorri': 18,\n",
       "         'issu': 18,\n",
       "         'box': 18,\n",
       "         'bug': 18,\n",
       "         'fml': 18,\n",
       "         'offici': 18,\n",
       "         'sonyalpha': 18,\n",
       "         'high': 18,\n",
       "         'calendar': 18,\n",
       "         'team': 18,\n",
       "         'roll': 18,\n",
       "         'experi': 18,\n",
       "         'edg': 18,\n",
       "         'hd': 18,\n",
       "         'uniqu': 18,\n",
       "         'mind': 18,\n",
       "         'miami': 18,\n",
       "         'glad': 18,\n",
       "         'sea': 18,\n",
       "         'stay': 18,\n",
       "         'trend': 18,\n",
       "         'soror': 18,\n",
       "         'move': 18,\n",
       "         'wall': 17,\n",
       "         'daili': 17,\n",
       "         'vlog': 17,\n",
       "         'stand': 17,\n",
       "         'blackfriday': 17,\n",
       "         'reset': 17,\n",
       "         'special': 17,\n",
       "         'mood': 17,\n",
       "         'vaio': 17,\n",
       "         'throw': 17,\n",
       "         'passion': 17,\n",
       "         'sprint': 17,\n",
       "         'space': 17,\n",
       "         'hold': 17,\n",
       "         'freez': 17,\n",
       "         'mad': 17,\n",
       "         'purpos': 17,\n",
       "         'delici': 17,\n",
       "         'far': 17,\n",
       "         'al': 17,\n",
       "         'june': 17,\n",
       "         'canada': 17,\n",
       "         'sent': 17,\n",
       "         'captur': 17,\n",
       "         'march': 17,\n",
       "         'wipe': 17,\n",
       "         'wast': 17,\n",
       "         'zeeland': 17,\n",
       "         'nikon': 17,\n",
       "         'applesuck': 17,\n",
       "         'king': 17,\n",
       "         'trump': 17,\n",
       "         'california': 17,\n",
       "         'surpris': 17,\n",
       "         'protect': 17,\n",
       "         'novemb': 17,\n",
       "         'adventur': 17,\n",
       "         'digit': 17,\n",
       "         'internet': 17,\n",
       "         'stream': 17,\n",
       "         'rose': 17,\n",
       "         'develop': 17,\n",
       "         'outdoor': 16,\n",
       "         'creat': 16,\n",
       "         'landscap': 16,\n",
       "         'bright': 16,\n",
       "         'origin': 16,\n",
       "         'soul': 16,\n",
       "         'abl': 16,\n",
       "         'earphon': 16,\n",
       "         'banana': 16,\n",
       "         'spend': 16,\n",
       "         'stevejob': 16,\n",
       "         'least': 16,\n",
       "         'draw': 16,\n",
       "         'ny': 16,\n",
       "         'angri': 16,\n",
       "         'bird': 16,\n",
       "         'gorgeou': 16,\n",
       "         'dress': 16,\n",
       "         'manag': 16,\n",
       "         'wanna': 16,\n",
       "         'europ': 16,\n",
       "         'fish': 16,\n",
       "         'hateiphon': 16,\n",
       "         'inlov': 16,\n",
       "         'lte': 16,\n",
       "         'storag': 16,\n",
       "         'blond': 16,\n",
       "         'meet': 16,\n",
       "         'motiv': 16,\n",
       "         'sunni': 16,\n",
       "         'left': 16,\n",
       "         'walk': 16,\n",
       "         'v': 16,\n",
       "         'onlin': 16,\n",
       "         'fb': 16,\n",
       "         'colour': 16,\n",
       "         'hack': 16,\n",
       "         'snow': 16,\n",
       "         'join': 16,\n",
       "         'seem': 15,\n",
       "         'goal': 15,\n",
       "         'produc': 15,\n",
       "         'program': 15,\n",
       "         'univers': 15,\n",
       "         'yum': 15,\n",
       "         'shot': 15,\n",
       "         'children': 15,\n",
       "         'uae': 15,\n",
       "         'purpl': 15,\n",
       "         'mommi': 15,\n",
       "         'sell': 15,\n",
       "         'pari': 15,\n",
       "         'silver': 15,\n",
       "         'provid': 15,\n",
       "         'track': 15,\n",
       "         'photoshoot': 15,\n",
       "         'newtoy': 15,\n",
       "         'gener': 15,\n",
       "         'screw': 15,\n",
       "         'cook': 15,\n",
       "         'bye': 15,\n",
       "         'wireless': 15,\n",
       "         'part': 15,\n",
       "         'gotta': 15,\n",
       "         'explor': 15,\n",
       "         'followfollow': 15,\n",
       "         'f': 15,\n",
       "         'found': 15,\n",
       "         'longer': 15,\n",
       "         'celebr': 15,\n",
       "         'gave': 15,\n",
       "         'plan': 15,\n",
       "         'vintag': 15,\n",
       "         'later': 15,\n",
       "         'januari': 15,\n",
       "         'apple…': 15,\n",
       "         'gs': 15,\n",
       "         'question': 14,\n",
       "         'wife': 14,\n",
       "         'subscrib': 14,\n",
       "         'america': 14,\n",
       "         'bday': 14,\n",
       "         'bull': 14,\n",
       "         'ladi': 14,\n",
       "         'droid': 14,\n",
       "         'iphonephotographi': 14,\n",
       "         'singer': 14,\n",
       "         'i’m': 14,\n",
       "         'qualiti': 14,\n",
       "         'mode': 14,\n",
       "         'park': 14,\n",
       "         'rid': 14,\n",
       "         'level': 14,\n",
       "         'babe': 14,\n",
       "         'cold': 14,\n",
       "         'cri': 14,\n",
       "         'display': 14,\n",
       "         'okay': 14,\n",
       "         'valentinesday': 14,\n",
       "         'februari': 14,\n",
       "         'hi': 14,\n",
       "         'instaphoto': 14,\n",
       "         'middl': 14,\n",
       "         'info': 14,\n",
       "         'playlist': 14,\n",
       "         'bot': 14,\n",
       "         'event': 14,\n",
       "         'wouldnt': 14,\n",
       "         'speaker': 14,\n",
       "         'answer': 14,\n",
       "         'block': 14,\n",
       "         'finger': 14,\n",
       "         'anymor': 14,\n",
       "         'cell': 14,\n",
       "         'sticker': 14,\n",
       "         'vscocam': 14,\n",
       "         'librari': 14,\n",
       "         'tire': 14,\n",
       "         'electron': 14,\n",
       "         'useless': 14,\n",
       "         'starbuck': 14,\n",
       "         'dinner': 14,\n",
       "         'spent': 14,\n",
       "         'vacat': 14,\n",
       "         'social': 14,\n",
       "         'tip': 14,\n",
       "         'merri': 14,\n",
       "         'collect': 14,\n",
       "         'stuck': 14,\n",
       "         'blow': 14,\n",
       "         'blogger': 14,\n",
       "         'choos': 14,\n",
       "         'network': 14,\n",
       "         'innov': 14,\n",
       "         'asshol': 14,\n",
       "         'offic': 14,\n",
       "         'self': 14,\n",
       "         'current': 14,\n",
       "         'ink': 14,\n",
       "         'aliusaexpress': 14,\n",
       "         'mi': 14,\n",
       "         'bed': 14,\n",
       "         'goodby': 14,\n",
       "         'breakfast': 14,\n",
       "         'shoppinglist': 14,\n",
       "         'xd': 14,\n",
       "         'dessert': 14,\n",
       "         'led': 14,\n",
       "         'agre': 13,\n",
       "         'million': 13,\n",
       "         'view': 13,\n",
       "         'sonya': 13,\n",
       "         'cd': 13,\n",
       "         'nowplay': 13,\n",
       "         'sign': 13,\n",
       "         'educ': 13,\n",
       "         'bar': 13,\n",
       "         'key': 13,\n",
       "         'told': 13,\n",
       "         'three': 13,\n",
       "         'zoom': 13,\n",
       "         'close': 13,\n",
       "         'system': 13,\n",
       "         'goodmorn': 13,\n",
       "         'smoke': 13,\n",
       "         'bro': 13,\n",
       "         'thx': 13,\n",
       "         'jailbreak': 13,\n",
       "         'stock': 13,\n",
       "         'bc': 13,\n",
       "         'applestor': 13,\n",
       "         'wasnt': 13,\n",
       "         'da': 13,\n",
       "         'appletv': 13,\n",
       "         'bluetooth': 13,\n",
       "         'samsungmobil': 13,\n",
       "         'rs': 13,\n",
       "         'piano': 13,\n",
       "         'treat': 13,\n",
       "         'tagsforlik': 13,\n",
       "         'planet': 13,\n",
       "         'secur': 13,\n",
       "         'becom': 13,\n",
       "         'nail': 13,\n",
       "         'bitch': 13,\n",
       "         'sing': 13,\n",
       "         'till': 13,\n",
       "         'wors': 13,\n",
       "         'review': 13,\n",
       "         'mail': 13,\n",
       "         'webstagram': 13,\n",
       "         'ear': 13,\n",
       "         'forgot': 13,\n",
       "         'fire': 13,\n",
       "         'spoil': 13,\n",
       "         'huge': 13,\n",
       "         'weather': 13,\n",
       "         'place': 13,\n",
       "         'applesupport': 13,\n",
       "         'kind': 13,\n",
       "         'spotifi': 13,\n",
       "         'followtrick': 13,\n",
       "         'error': 13,\n",
       "         'launch': 13,\n",
       "         'minion': 13,\n",
       "         'mp': 13,\n",
       "         'test': 12,\n",
       "         'easter': 12,\n",
       "         ...})"
      ]
     },
     "execution_count": 33,
     "metadata": {},
     "output_type": "execute_result"
    }
   ],
   "source": [
    "vocab"
   ]
  },
  {
   "cell_type": "code",
   "execution_count": 34,
   "id": "e68b9c82-d3a8-43e6-b701-32c15381b258",
   "metadata": {},
   "outputs": [
    {
     "data": {
      "text/plain": [
       "15949"
      ]
     },
     "execution_count": 34,
     "metadata": {},
     "output_type": "execute_result"
    }
   ],
   "source": [
    "len(vocab)"
   ]
  },
  {
   "cell_type": "code",
   "execution_count": 35,
   "id": "41390476-8feb-4827-b63a-46dfc88af29a",
   "metadata": {},
   "outputs": [
    {
     "data": {
      "text/plain": [
       "(7920, 3)"
      ]
     },
     "execution_count": 35,
     "metadata": {},
     "output_type": "execute_result"
    }
   ],
   "source": [
    "data.shape"
   ]
  },
  {
   "cell_type": "code",
   "execution_count": 36,
   "id": "f7c128d3-24bd-4b52-92a6-90993c5c112d",
   "metadata": {},
   "outputs": [],
   "source": [
    "tokens = [key for key in vocab if vocab[key]>10]"
   ]
  },
  {
   "cell_type": "code",
   "execution_count": 37,
   "id": "43a6d138-06d5-4f93-a4ad-7302cf0374bc",
   "metadata": {},
   "outputs": [
    {
     "data": {
      "text/plain": [
       "1145"
      ]
     },
     "execution_count": 37,
     "metadata": {},
     "output_type": "execute_result"
    }
   ],
   "source": [
    "len(tokens)"
   ]
  },
  {
   "cell_type": "code",
   "execution_count": 38,
   "id": "51483e23-a091-4c32-b19b-9424f387b401",
   "metadata": {},
   "outputs": [],
   "source": [
    "def save_vocab(lines, filename):\n",
    "    data= '\\n'.join(lines)\n",
    "    file = open(filename,'w', encoding='utf-8')\n",
    "    file.write(data)\n",
    "    file.close()\n",
    "\n",
    "save_vocab(tokens,r\"C:\\Users\\ADMIN\\Desktop\\sentiment-analysis-project\\static\\model\\vocabulary.txt\")  "
   ]
  },
  {
   "cell_type": "code",
   "execution_count": 39,
   "id": "895e8a9a-6444-4885-a483-23a5f9340ccb",
   "metadata": {},
   "outputs": [
    {
     "data": {
      "text/html": [
       "<div>\n",
       "<style scoped>\n",
       "    .dataframe tbody tr th:only-of-type {\n",
       "        vertical-align: middle;\n",
       "    }\n",
       "\n",
       "    .dataframe tbody tr th {\n",
       "        vertical-align: top;\n",
       "    }\n",
       "\n",
       "    .dataframe thead th {\n",
       "        text-align: right;\n",
       "    }\n",
       "</style>\n",
       "<table border=\"1\" class=\"dataframe\">\n",
       "  <thead>\n",
       "    <tr style=\"text-align: right;\">\n",
       "      <th></th>\n",
       "      <th>id</th>\n",
       "      <th>label</th>\n",
       "      <th>tweet</th>\n",
       "    </tr>\n",
       "  </thead>\n",
       "  <tbody>\n",
       "    <tr>\n",
       "      <th>0</th>\n",
       "      <td>1</td>\n",
       "      <td>0</td>\n",
       "      <td>fingerprint pregnanc test android app beauti c...</td>\n",
       "    </tr>\n",
       "    <tr>\n",
       "      <th>1</th>\n",
       "      <td>2</td>\n",
       "      <td>0</td>\n",
       "      <td>final transpar silicon case thank uncl yay son...</td>\n",
       "    </tr>\n",
       "    <tr>\n",
       "      <th>2</th>\n",
       "      <td>3</td>\n",
       "      <td>0</td>\n",
       "      <td>love would go talk makememori unplug relax iph...</td>\n",
       "    </tr>\n",
       "    <tr>\n",
       "      <th>3</th>\n",
       "      <td>4</td>\n",
       "      <td>0</td>\n",
       "      <td>im wire know im georg made way iphon cute dave...</td>\n",
       "    </tr>\n",
       "    <tr>\n",
       "      <th>4</th>\n",
       "      <td>5</td>\n",
       "      <td>1</td>\n",
       "      <td>amaz servic appl wont even talk question unles...</td>\n",
       "    </tr>\n",
       "  </tbody>\n",
       "</table>\n",
       "</div>"
      ],
      "text/plain": [
       "   id  label                                              tweet\n",
       "0   1      0  fingerprint pregnanc test android app beauti c...\n",
       "1   2      0  final transpar silicon case thank uncl yay son...\n",
       "2   3      0  love would go talk makememori unplug relax iph...\n",
       "3   4      0  im wire know im georg made way iphon cute dave...\n",
       "4   5      1  amaz servic appl wont even talk question unles..."
      ]
     },
     "execution_count": 39,
     "metadata": {},
     "output_type": "execute_result"
    }
   ],
   "source": [
    "data.head()"
   ]
  },
  {
   "cell_type": "code",
   "execution_count": 40,
   "id": "1c04bd2c-a840-400f-ac08-3faec24c1a41",
   "metadata": {},
   "outputs": [],
   "source": [
    "x= data['tweet']\n",
    "y=data['label']"
   ]
  },
  {
   "cell_type": "code",
   "execution_count": 41,
   "id": "51c9257b-c8ce-4af4-acc3-18f03cf13683",
   "metadata": {},
   "outputs": [],
   "source": [
    "from sklearn.model_selection import train_test_split\n",
    "x_train,  x_test,y_train, y_test = train_test_split(x,y,test_size=0.2)"
   ]
  },
  {
   "cell_type": "code",
   "execution_count": 42,
   "id": "b407b664-a2bf-4a9b-924e-b2646436511f",
   "metadata": {},
   "outputs": [
    {
     "name": "stdout",
     "output_type": "stream",
     "text": [
      "Requirement already satisfied: scikit-learn in c:\\users\\admin\\tf_env\\lib\\site-packages (1.6.1)\n",
      "Requirement already satisfied: joblib>=1.2.0 in c:\\users\\admin\\tf_env\\lib\\site-packages (from scikit-learn) (1.4.2)\n",
      "Requirement already satisfied: scipy>=1.6.0 in c:\\users\\admin\\tf_env\\lib\\site-packages (from scikit-learn) (1.15.2)\n",
      "Requirement already satisfied: threadpoolctl>=3.1.0 in c:\\users\\admin\\tf_env\\lib\\site-packages (from scikit-learn) (3.5.0)\n",
      "Requirement already satisfied: numpy>=1.19.5 in c:\\users\\admin\\tf_env\\lib\\site-packages (from scikit-learn) (2.0.2)\n"
     ]
    },
    {
     "name": "stderr",
     "output_type": "stream",
     "text": [
      "\n",
      "[notice] A new release of pip available: 22.3.1 -> 25.1.1\n",
      "[notice] To update, run: python.exe -m pip install --upgrade pip\n"
     ]
    }
   ],
   "source": [
    "!pip install scikit-learn"
   ]
  },
  {
   "cell_type": "code",
   "execution_count": 43,
   "id": "df9fec09-7d25-4faa-aa57-024b46676412",
   "metadata": {},
   "outputs": [
    {
     "data": {
      "text/plain": [
       "(6336,)"
      ]
     },
     "execution_count": 43,
     "metadata": {},
     "output_type": "execute_result"
    }
   ],
   "source": [
    "x_train.shape"
   ]
  },
  {
   "cell_type": "code",
   "execution_count": 44,
   "id": "b7f34d47-a29d-4972-a905-429aa41c0ccd",
   "metadata": {},
   "outputs": [
    {
     "data": {
      "text/plain": [
       "(1584,)"
      ]
     },
     "execution_count": 44,
     "metadata": {},
     "output_type": "execute_result"
    }
   ],
   "source": [
    "x_test.shape"
   ]
  },
  {
   "cell_type": "code",
   "execution_count": 45,
   "id": "370061de-19e7-42e8-ae48-13746f3bd19d",
   "metadata": {},
   "outputs": [
    {
     "data": {
      "text/plain": [
       "(1584,)"
      ]
     },
     "execution_count": 45,
     "metadata": {},
     "output_type": "execute_result"
    }
   ],
   "source": [
    "y_test.shape"
   ]
  },
  {
   "cell_type": "code",
   "execution_count": 46,
   "id": "53b9a0f4-da18-4f90-b648-743604ba7fa7",
   "metadata": {},
   "outputs": [],
   "source": [
    "#vectorization\n",
    "def vectorizer(ds, vocabulary):\n",
    "    vectorized_list=[]\n",
    "    for sentence in ds:\n",
    "        sentence_list = np.zeros(len(vocabulary))\n",
    "        for i in range (len(vocabulary)):\n",
    "           if vocabulary[i] in sentence.split():\n",
    "              sentence_list[i]=1\n",
    "        vectorized_list.append(sentence_list)\n",
    "    vectorized_list_new = np.asarray( vectorized_list, dtype=np.float32)\n",
    "    return vectorized_list_new"
   ]
  },
  {
   "cell_type": "code",
   "execution_count": 47,
   "id": "b87f92d6-dfd3-438a-bff5-a8c94cde5082",
   "metadata": {},
   "outputs": [],
   "source": [
    "vectorized_x_train = vectorizer(x_train,tokens)"
   ]
  },
  {
   "cell_type": "code",
   "execution_count": 48,
   "id": "598a974b-8221-41e6-92c2-f6f27fbfed01",
   "metadata": {},
   "outputs": [
    {
     "data": {
      "text/plain": [
       "array([[0., 0., 0., ..., 0., 0., 0.],\n",
       "       [0., 0., 0., ..., 0., 0., 0.],\n",
       "       [0., 0., 0., ..., 0., 0., 0.],\n",
       "       ...,\n",
       "       [0., 0., 0., ..., 0., 0., 0.],\n",
       "       [0., 0., 0., ..., 0., 0., 0.],\n",
       "       [0., 0., 0., ..., 0., 0., 0.]], dtype=float32)"
      ]
     },
     "execution_count": 48,
     "metadata": {},
     "output_type": "execute_result"
    }
   ],
   "source": [
    "vectorized_x_train"
   ]
  },
  {
   "cell_type": "code",
   "execution_count": 49,
   "id": "5d13bf28-41cc-4c7c-99d1-864a236e2d12",
   "metadata": {},
   "outputs": [],
   "source": [
    "vectorized_x_test = vectorizer(x_test,tokens)"
   ]
  },
  {
   "cell_type": "code",
   "execution_count": 50,
   "id": "45ddadad-2362-4354-9b9d-960159686982",
   "metadata": {},
   "outputs": [
    {
     "data": {
      "text/plain": [
       "array([[0., 0., 0., ..., 0., 0., 0.],\n",
       "       [0., 0., 0., ..., 0., 0., 0.],\n",
       "       [0., 0., 0., ..., 0., 0., 0.],\n",
       "       ...,\n",
       "       [0., 0., 0., ..., 0., 0., 0.],\n",
       "       [0., 0., 0., ..., 0., 0., 0.],\n",
       "       [0., 0., 0., ..., 0., 0., 0.]], dtype=float32)"
      ]
     },
     "execution_count": 50,
     "metadata": {},
     "output_type": "execute_result"
    }
   ],
   "source": [
    "vectorized_x_test"
   ]
  },
  {
   "cell_type": "code",
   "execution_count": 51,
   "id": "9996fa97-fabe-4147-bdb1-d2128ed9e525",
   "metadata": {},
   "outputs": [
    {
     "data": {
      "text/plain": [
       "label\n",
       "0    4711\n",
       "1    1625\n",
       "Name: count, dtype: int64"
      ]
     },
     "execution_count": 51,
     "metadata": {},
     "output_type": "execute_result"
    }
   ],
   "source": [
    "y_train.value_counts()"
   ]
  },
  {
   "cell_type": "code",
   "execution_count": 52,
   "id": "62eba2e5-0b7b-4cf5-ace6-7342c52f6dbb",
   "metadata": {},
   "outputs": [
    {
     "data": {
      "text/plain": [
       "([<matplotlib.patches.Wedge at 0x205745d5330>,\n",
       "  <matplotlib.patches.Wedge at 0x205745d5270>],\n",
       " [Text(-0.7618453958694119, 0.7934680792524543, 'positive'),\n",
       "  Text(0.76184584359154, -0.7934676493734921, 'negative')])"
      ]
     },
     "execution_count": 52,
     "metadata": {},
     "output_type": "execute_result"
    },
    {
     "data": {
      "image/png": "[encoded data removed]",
      "text/plain": [
       "<Figure size 640x480 with 1 Axes>"
      ]
     },
     "metadata": {},
     "output_type": "display_data"
    }
   ],
   "source": [
    "plt.pie(np.array([y_train.value_counts()[0],y_train.value_counts()[1]]),labels=['positive','negative'])"
   ]
  },
  {
   "cell_type": "code",
   "execution_count": 53,
   "id": "a4351eca-7517-4902-bb7a-21180f515867",
   "metadata": {},
   "outputs": [
    {
     "name": "stdout",
     "output_type": "stream",
     "text": [
      "(9422, 1145) (9422,)\n"
     ]
    }
   ],
   "source": [
    "#handle imbalanced dataset\n",
    "from imblearn.over_sampling import SMOTE\n",
    "smote = SMOTE()\n",
    "vectorized_x_train_smote, y_train_smote = smote.fit_resample(vectorized_x_train, y_train)\n",
    "print(vectorized_x_train_smote.shape, y_train_smote.shape)"
   ]
  },
  {
   "cell_type": "code",
   "execution_count": 54,
   "id": "f67195ad-612f-460c-a7ac-6d4fb69f0b1d",
   "metadata": {},
   "outputs": [
    {
     "name": "stdout",
     "output_type": "stream",
     "text": [
      "Requirement already satisfied: imbalanced-learn in c:\\users\\admin\\tf_env\\lib\\site-packages (0.13.0)\n",
      "Requirement already satisfied: scipy<2,>=1.10.1 in c:\\users\\admin\\tf_env\\lib\\site-packages (from imbalanced-learn) (1.15.2)\n",
      "Requirement already satisfied: threadpoolctl<4,>=2.0.0 in c:\\users\\admin\\tf_env\\lib\\site-packages (from imbalanced-learn) (3.5.0)\n",
      "Requirement already satisfied: joblib<2,>=1.1.1 in c:\\users\\admin\\tf_env\\lib\\site-packages (from imbalanced-learn) (1.4.2)\n",
      "Requirement already satisfied: scikit-learn<2,>=1.3.2 in c:\\users\\admin\\tf_env\\lib\\site-packages (from imbalanced-learn) (1.6.1)\n",
      "Requirement already satisfied: numpy<3,>=1.24.3 in c:\\users\\admin\\tf_env\\lib\\site-packages (from imbalanced-learn) (2.0.2)\n",
      "Requirement already satisfied: sklearn-compat<1,>=0.1 in c:\\users\\admin\\tf_env\\lib\\site-packages (from imbalanced-learn) (0.1.3)\n"
     ]
    },
    {
     "name": "stderr",
     "output_type": "stream",
     "text": [
      "\n",
      "[notice] A new release of pip available: 22.3.1 -> 25.1.1\n",
      "[notice] To update, run: python.exe -m pip install --upgrade pip\n"
     ]
    }
   ],
   "source": [
    "!pip install imbalanced-learn"
   ]
  },
  {
   "cell_type": "code",
   "execution_count": 55,
   "id": "f73f964f-0f10-4431-a060-1106e472c340",
   "metadata": {},
   "outputs": [
    {
     "data": {
      "text/plain": [
       "label\n",
       "0    4711\n",
       "1    4711\n",
       "Name: count, dtype: int64"
      ]
     },
     "execution_count": 55,
     "metadata": {},
     "output_type": "execute_result"
    }
   ],
   "source": [
    "y_train_smote.value_counts()"
   ]
  },
  {
   "cell_type": "code",
   "execution_count": 56,
   "id": "f87ab37b-b2be-4019-b6e6-713de0214f8f",
   "metadata": {},
   "outputs": [
    {
     "data": {
      "text/plain": [
       "([<matplotlib.patches.Wedge at 0x2057cd6a1d0>,\n",
       "  <matplotlib.patches.Wedge at 0x2057cd6a110>],\n",
       " [Text(-4.8082529002048655e-08, 1.099999999999999, 'positive'),\n",
       "  Text(1.311736850028664e-08, -1.0999999999999999, 'negative')])"
      ]
     },
     "execution_count": 56,
     "metadata": {},
     "output_type": "execute_result"
    },
    {
     "data": {
      "image/png": "[encoded data removed]",
      "text/plain": [
       "<Figure size 640x480 with 1 Axes>"
      ]
     },
     "metadata": {},
     "output_type": "display_data"
    }
   ],
   "source": [
    "plt.pie(np.array([y_train_smote.value_counts()[0],y_train_smote.value_counts()[1]]),labels=['positive','negative'])"
   ]
  },
  {
   "cell_type": "code",
   "execution_count": 57,
   "id": "23cdb654-4fae-4fc1-83ee-e6c8c994442f",
   "metadata": {},
   "outputs": [],
   "source": [
    "#for train= vectorized_x_train_smote, y_train_smote\n",
    "#fr test = vectorized_x_test, y_test"
   ]
  },
  {
   "cell_type": "code",
   "execution_count": 58,
   "id": "f7b19ea9-5340-4408-88f5-3a78b89df47e",
   "metadata": {},
   "outputs": [],
   "source": [
    "#model training and rvaluation"
   ]
  },
  {
   "cell_type": "code",
   "execution_count": 59,
   "id": "9234ed1d-b5bd-44aa-888d-7ddcdece9d9a",
   "metadata": {},
   "outputs": [],
   "source": [
    "from sklearn.linear_model import LogisticRegression\n",
    "from sklearn.naive_bayes import MultinomialNB\n",
    "from sklearn.tree import DecisionTreeClassifier\n",
    "from sklearn.ensemble import RandomForestClassifier\n",
    "from sklearn.svm import SVC"
   ]
  },
  {
   "cell_type": "code",
   "execution_count": 60,
   "id": "5ac0376d-3726-43f0-86fb-78bc36612ab4",
   "metadata": {},
   "outputs": [],
   "source": [
    "from sklearn.metrics import accuracy_score, precision_score, recall_score, f1_score\n",
    "def training_score(y_act,y_pred):\n",
    "    acc = round(accuracy_score(y_act,y_pred),3)\n",
    "    pr = round( precision_score(y_act,y_pred),3)\n",
    "    rec = round(recall_score(y_act,y_pred),3)\n",
    "    f1 = round(f1_score(y_act,y_pred),3)\n",
    "    print(f'training scores:\\n\\taccuracy={acc}\\n\\tprsicision={pr}\\n\\trecall={rec}\\n\\tf1 score={f1}')\n",
    "\n",
    "def validation_score(y_act,y_pred):\n",
    "    acc = round(accuracy_score(y_act,y_pred),3)\n",
    "    pr = round( precision_score(y_act,y_pred),3)\n",
    "    rec = round(recall_score(y_act,y_pred),3)\n",
    "    f1 = round(f1_score(y_act,y_pred),3)\n",
    "    print(f'testing scores:\\n\\taccuracy={acc}\\n\\tprsicision={pr}\\n\\trecall={rec}\\n\\tf1 score={f1}')    "
   ]
  },
  {
   "cell_type": "code",
   "execution_count": 61,
   "id": "47a41fc0-ad99-4e05-9279-933a46b99857",
   "metadata": {},
   "outputs": [],
   "source": [
    "###logistic regression"
   ]
  },
  {
   "cell_type": "code",
   "execution_count": 73,
   "id": "e528228c-5f2d-40c3-8983-6a2e0b18848d",
   "metadata": {},
   "outputs": [
    {
     "name": "stdout",
     "output_type": "stream",
     "text": [
      "training scores:\n",
      "\taccuracy=0.942\n",
      "\tprsicision=0.92\n",
      "\trecall=0.968\n",
      "\tf1 score=0.943\n",
      "testing scores:\n",
      "\taccuracy=0.864\n",
      "\tprsicision=0.689\n",
      "\trecall=0.845\n",
      "\tf1 score=0.759\n"
     ]
    }
   ],
   "source": [
    "lr = LogisticRegression()\n",
    "lr.fit(vectorized_x_train_smote,y_train_smote)\n",
    "y_train_pred = lr.predict(vectorized_x_train_smote)\n",
    "training_score(y_train_smote, y_train_pred)\n",
    "y_test_pred = lr.predict(vectorized_x_test)\n",
    "validation_score(y_test,y_test_pred)"
   ]
  },
  {
   "cell_type": "code",
   "execution_count": 74,
   "id": "7c30b3d3-a5dd-4d83-9504-e4c7f36a1097",
   "metadata": {},
   "outputs": [
    {
     "name": "stdout",
     "output_type": "stream",
     "text": [
      "training scores:\n",
      "\taccuracy=0.909\n",
      "\tprsicision=0.872\n",
      "\trecall=0.958\n",
      "\tf1 score=0.913\n",
      "testing scores:\n",
      "\taccuracy=0.86\n",
      "\tprsicision=0.66\n",
      "\trecall=0.92\n",
      "\tf1 score=0.769\n"
     ]
    }
   ],
   "source": [
    "##naive bays\n",
    "mnb = MultinomialNB()\n",
    "mnb.fit(vectorized_x_train_smote,y_train_smote)\n",
    "y_train_pred = mnb.predict(vectorized_x_train_smote)\n",
    "training_score(y_train_smote, y_train_pred)\n",
    "y_test_pred = mnb.predict(vectorized_x_test)\n",
    "validation_score(y_test,y_test_pred)"
   ]
  },
  {
   "cell_type": "code",
   "execution_count": 75,
   "id": "feb3ee6a-6ade-4bf4-81fe-84538275d0d5",
   "metadata": {},
   "outputs": [
    {
     "name": "stdout",
     "output_type": "stream",
     "text": [
      "training scores:\n",
      "\taccuracy=1.0\n",
      "\tprsicision=1.0\n",
      "\trecall=1.0\n",
      "\tf1 score=1.0\n",
      "testing scores:\n",
      "\taccuracy=0.812\n",
      "\tprsicision=0.627\n",
      "\trecall=0.633\n",
      "\tf1 score=0.63\n"
     ]
    }
   ],
   "source": [
    "##decision tree \n",
    "dtc = DecisionTreeClassifier()\n",
    "dtc.fit(vectorized_x_train_smote,y_train_smote)\n",
    "y_train_pred = dtc.predict(vectorized_x_train_smote)\n",
    "training_score(y_train_smote, y_train_pred)\n",
    "y_test_pred = dtc.predict(vectorized_x_test)\n",
    "validation_score(y_test,y_test_pred)"
   ]
  },
  {
   "cell_type": "code",
   "execution_count": 76,
   "id": "03b98206-b8b6-47b7-a336-4c2c01dec588",
   "metadata": {},
   "outputs": [
    {
     "name": "stdout",
     "output_type": "stream",
     "text": [
      "training scores:\n",
      "\taccuracy=1.0\n",
      "\tprsicision=1.0\n",
      "\trecall=1.0\n",
      "\tf1 score=1.0\n",
      "testing scores:\n",
      "\taccuracy=0.865\n",
      "\tprsicision=0.747\n",
      "\trecall=0.706\n",
      "\tf1 score=0.726\n"
     ]
    }
   ],
   "source": [
    "##random forest\n",
    "rfc = RandomForestClassifier()\n",
    "rfc.fit(vectorized_x_train_smote,y_train_smote)\n",
    "y_train_pred = rfc.predict(vectorized_x_train_smote)\n",
    "training_score(y_train_smote, y_train_pred)\n",
    "y_test_pred = rfc.predict(vectorized_x_test)\n",
    "validation_score(y_test,y_test_pred)"
   ]
  },
  {
   "cell_type": "code",
   "execution_count": 77,
   "id": "d2a985fe-c05a-4ccc-a089-ddb8af172ba1",
   "metadata": {},
   "outputs": [
    {
     "name": "stdout",
     "output_type": "stream",
     "text": [
      "training scores:\n",
      "\taccuracy=0.979\n",
      "\tprsicision=0.963\n",
      "\trecall=0.997\n",
      "\tf1 score=0.98\n",
      "testing scores:\n",
      "\taccuracy=0.867\n",
      "\tprsicision=0.717\n",
      "\trecall=0.788\n",
      "\tf1 score=0.751\n"
     ]
    }
   ],
   "source": [
    "##svm\n",
    "svc = SVC()\n",
    "svc.fit(vectorized_x_train_smote,y_train_smote)\n",
    "y_train_pred = svc.predict(vectorized_x_train_smote)\n",
    "training_score(y_train_smote, y_train_pred)\n",
    "y_test_pred = svc.predict(vectorized_x_test)\n",
    "validation_score(y_test,y_test_pred)"
   ]
  },
  {
   "cell_type": "code",
   "execution_count": 78,
   "id": "70274e87-0c19-4e0b-a6aa-46cc4b2fca81",
   "metadata": {},
   "outputs": [],
   "source": [
    "#model save\n",
    "import pickle\n",
    "with open(r\"C:\\Users\\ADMIN\\Desktop\\my_projects\\sentiment-analysis-project\\static\\model\\model.pickle\",'wb')as file:\n",
    "    pickle.dump(lr,file)"
   ]
  },
  {
   "cell_type": "code",
   "execution_count": null,
   "id": "4b2f297a-8d96-48ba-9846-0bc9fb39786c",
   "metadata": {},
   "outputs": [],
   "source": []
  }
 ],
 "metadata": {
  "kernelspec": {
   "display_name": "Python 3 (ipykernel)",
   "language": "python",
   "name": "python3"
  },
  "language_info": {
   "codemirror_mode": {
    "name": "ipython",
    "version": 3
   },
   "file_extension": ".py",
   "mimetype": "text/x-python",
   "name": "python",
   "nbconvert_exporter": "python",
   "pygments_lexer": "ipython3",
   "version": "3.10.10"
  }
 },
 "nbformat": 4,
 "nbformat_minor": 5
}

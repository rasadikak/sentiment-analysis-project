{
 "cells": [
  {
   "cell_type": "code",
   "execution_count": null,
   "id": "3a3b9bd6-5151-4ca0-adf0-fd71620dc361",
   "metadata": {},
   "outputs": [],
   "source": [
    "#https://www.kaggle.com/datasets/dineshpiyasamara/sentiment-analysis-dataset"
   ]
  },
  {
   "cell_type": "code",
   "execution_count": 1,
   "id": "0c6a2ab1-18b4-4236-9d0e-9861be588cd6",
   "metadata": {},
   "outputs": [],
   "source": [
    "import numpy as np"
   ]
  },
  {
   "cell_type": "code",
   "execution_count": 5,
   "id": "a8b76845-0f43-4dc6-abef-f5abde1e5648",
   "metadata": {},
   "outputs": [],
   "source": [
    "import json\n",
    "with open(r\"C:\\Users\\ADMIN\\Desktop\\sentiment-analysis-project\\artifacts\\kaggle (3).json\",'r') as file:\n",
    "    data= json.load(file)"
   ]
  },
  {
   "cell_type": "code",
   "execution_count": 6,
   "id": "3a126f1e-5c9f-4496-a2e8-023a8473cfef",
   "metadata": {},
   "outputs": [
    {
     "data": {
      "text/plain": [
       "{'username': 'kaushanirasadika', 'key': '900f24ff6e632bda118744fe43284bef'}"
      ]
     },
     "execution_count": 6,
     "metadata": {},
     "output_type": "execute_result"
    }
   ],
   "source": [
    "data"
   ]
  },
  {
   "cell_type": "code",
   "execution_count": 8,
   "id": "800aefdb-65ca-4c6b-b6ef-530e285856c9",
   "metadata": {},
   "outputs": [
    {
     "name": "stdout",
     "output_type": "stream",
     "text": [
      "Requirement already satisfied: kaggle in c:\\users\\admin\\tf_env\\lib\\site-packages (1.7.4.5)\n",
      "Requirement already satisfied: certifi>=14.05.14 in c:\\users\\admin\\tf_env\\lib\\site-packages (from kaggle) (2025.1.31)\n",
      "Requirement already satisfied: six>=1.10 in c:\\users\\admin\\tf_env\\lib\\site-packages (from kaggle) (1.17.0)\n",
      "Requirement already satisfied: python-dateutil>=2.5.3 in c:\\users\\admin\\tf_env\\lib\\site-packages (from kaggle) (2.9.0.post0)\n",
      "Requirement already satisfied: requests in c:\\users\\admin\\tf_env\\lib\\site-packages (from kaggle) (2.32.3)\n",
      "Requirement already satisfied: text-unidecode in c:\\users\\admin\\tf_env\\lib\\site-packages (from kaggle) (1.3)\n",
      "Requirement already satisfied: python-slugify in c:\\users\\admin\\tf_env\\lib\\site-packages (from kaggle) (8.0.4)\n",
      "Requirement already satisfied: idna in c:\\users\\admin\\tf_env\\lib\\site-packages (from kaggle) (3.10)\n",
      "Requirement already satisfied: setuptools>=21.0.0 in c:\\users\\admin\\tf_env\\lib\\site-packages (from kaggle) (65.5.0)\n",
      "Requirement already satisfied: bleach in c:\\users\\admin\\tf_env\\lib\\site-packages (from kaggle) (6.2.0)\n",
      "Requirement already satisfied: protobuf in c:\\users\\admin\\tf_env\\lib\\site-packages (from kaggle) (5.29.3)\n",
      "Requirement already satisfied: tqdm in c:\\users\\admin\\tf_env\\lib\\site-packages (from kaggle) (4.67.1)\n",
      "Requirement already satisfied: webencodings in c:\\users\\admin\\tf_env\\lib\\site-packages (from kaggle) (0.5.1)\n",
      "Requirement already satisfied: urllib3>=1.15.1 in c:\\users\\admin\\tf_env\\lib\\site-packages (from kaggle) (2.3.0)\n",
      "Requirement already satisfied: charset-normalizer in c:\\users\\admin\\tf_env\\lib\\site-packages (from kaggle) (3.4.1)\n",
      "Requirement already satisfied: colorama in c:\\users\\admin\\tf_env\\lib\\site-packages (from tqdm->kaggle) (0.4.6)\n",
      "Note: you may need to restart the kernel to use updated packages.\n"
     ]
    },
    {
     "name": "stderr",
     "output_type": "stream",
     "text": [
      "\n",
      "[notice] A new release of pip available: 22.3.1 -> 25.1.1\n",
      "[notice] To update, run: python.exe -m pip install --upgrade pip\n"
     ]
    }
   ],
   "source": [
    "pip install kaggle"
   ]
  },
  {
   "cell_type": "code",
   "execution_count": 10,
   "id": "425a9a29-cf35-40d0-a7a9-c0e15291ee70",
   "metadata": {},
   "outputs": [],
   "source": [
    "import os\n",
    "os.environ['KAGGLE_USERNAME']= data['username']\n",
    "os.environ['KAGGLE_KEY']= data['key']"
   ]
  },
  {
   "cell_type": "code",
   "execution_count": 11,
   "id": "94ba8437-820b-4459-92f1-f8f276aae43b",
   "metadata": {},
   "outputs": [],
   "source": [
    "from kaggle.api.kaggle_api_extended import KaggleApi\n",
    "api= KaggleApi()\n",
    "api.authenticate()"
   ]
  },
  {
   "cell_type": "code",
   "execution_count": 13,
   "id": "1ace6a45-9be5-4e38-809b-ac13d0d996da",
   "metadata": {},
   "outputs": [
    {
     "name": "stdout",
     "output_type": "stream",
     "text": [
      "Dataset URL: https://www.kaggle.com/datasets/dineshpiyasamara/sentiment-analysis-dataset\n"
     ]
    }
   ],
   "source": [
    "api.dataset_download_files('dineshpiyasamara/sentiment-analysis-dataset', path=r'C:\\Users\\ADMIN\\Desktop\\sentiment-analysis-project\\artifacts')"
   ]
  },
  {
   "cell_type": "code",
   "execution_count": 15,
   "id": "d6a6b017-1eea-4a30-8178-f18b61ac69f7",
   "metadata": {},
   "outputs": [],
   "source": [
    "import zipfile\n",
    "with zipfile.ZipFile(r\"C:\\Users\\ADMIN\\Desktop\\sentiment-analysis-project\\artifacts\\sentiment-analysis-dataset.zip\",'r') as zip_ref:\n",
    "    zip_ref.extractall(r'C:\\Users\\ADMIN\\Desktop\\sentiment-analysis-project\\artifacts')"
   ]
  },
  {
   "cell_type": "code",
   "execution_count": null,
   "id": "b0962f36-ab9e-4209-9c52-bafd5995cb74",
   "metadata": {},
   "outputs": [],
   "source": []
  }
 ],
 "metadata": {
  "kernelspec": {
   "display_name": "Python 3 (ipykernel)",
   "language": "python",
   "name": "python3"
  },
  "language_info": {
   "codemirror_mode": {
    "name": "ipython",
    "version": 3
   },
   "file_extension": ".py",
   "mimetype": "text/x-python",
   "name": "python",
   "nbconvert_exporter": "python",
   "pygments_lexer": "ipython3",
   "version": "3.10.10"
  }
 },
 "nbformat": 4,
 "nbformat_minor": 5
}
